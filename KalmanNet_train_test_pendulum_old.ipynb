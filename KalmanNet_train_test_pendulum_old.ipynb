{
 "cells": [
  {
   "cell_type": "code",
   "source": [
    "from google.colab import drive\n",
    "drive.mount('/content/drive')"
   ],
   "metadata": {
    "colab": {
     "base_uri": "https://localhost:8080/"
    },
    "id": "Hnxm-CvOSc9w",
    "executionInfo": {
     "status": "ok",
     "timestamp": 1652023854959,
     "user_tz": -120,
     "elapsed": 27520,
     "user": {
      "displayName": "DamiApache",
      "userId": "14144263532980165864"
     }
    },
    "outputId": "cc210490-e299-4852-8526-036804e5706b"
   },
   "execution_count": 1,
   "outputs": [
    {
     "output_type": "stream",
     "name": "stdout",
     "text": [
      "Mounted at /content/drive\n"
     ]
    }
   ]
  },
  {
   "cell_type": "code",
   "source": [
    "%cd /content/drive/MyDrive/ETH/Master thesis/KalmanNet_VO/"
   ],
   "metadata": {
    "colab": {
     "base_uri": "https://localhost:8080/"
    },
    "id": "SEjVBub1SXeD",
    "executionInfo": {
     "status": "ok",
     "timestamp": 1652023857723,
     "user_tz": -120,
     "elapsed": 9,
     "user": {
      "displayName": "DamiApache",
      "userId": "14144263532980165864"
     }
    },
    "outputId": "c2a38fe3-da4c-4c50-a261-ef97461a6072"
   },
   "execution_count": 2,
   "outputs": [
    {
     "output_type": "stream",
     "name": "stdout",
     "text": [
      "/content/drive/MyDrive/ETH/Master thesis/KalmanNet_VO\n"
     ]
    }
   ]
  },
  {
   "cell_type": "code",
   "execution_count": 1,
   "outputs": [
    {
     "name": "stdout",
     "output_type": "stream",
     "text": [
      "Running on GPU\n"
     ]
    }
   ],
   "source": [
    "import os\n",
    "import torch\n",
    "import sys\n",
    "from datetime import datetime\n",
    "from Extended_sysmdl_visual import SystemModel\n",
    "import numpy as np\n",
    "from EKF_test_visual import EKFTest\n",
    "#sys.path.insert(1, \"Simulations/Pendulum/model.py\")\n",
    "from model import f, h_full, h_partial, h_nonlinear\n",
    "import matplotlib.pyplot as plt\n",
    "from KalmanNet_sysmdl import SystemModel\n",
    "from KalmanNet_nn_NewArch_visual import KalmanNetNN\n",
    "from Pipeline_KF_visual_old import Pipeline_KF\n",
    "\n",
    "\n",
    "if torch.cuda.is_available():\n",
    "    dev = torch.device(\"cuda:0\")  # you can continue going on here, like cuda:1 cuda:2....etc.\n",
    "    torch.set_default_tensor_type('torch.cuda.FloatTensor')\n",
    "else:\n",
    "    dev = torch.device(\"cpu\")\n",
    "    print(\"Running on the CPU\")"
   ],
   "metadata": {
    "pycharm": {
     "name": "#%%\n"
    },
    "colab": {
     "base_uri": "https://localhost:8080/"
    },
    "id": "yZpJ06NiSSOI",
    "executionInfo": {
     "status": "ok",
     "timestamp": 1652023881122,
     "user_tz": -120,
     "elapsed": 20945,
     "user": {
      "displayName": "DamiApache",
      "userId": "14144263532980165864"
     }
    },
    "outputId": "71220b94-0f65-4423-f534-ba48bc2bd7ad"
   }
  },
  {
   "cell_type": "code",
   "execution_count": 2,
   "outputs": [],
   "source": [
    "NL_m = 2\n",
    "NL_n = 2\n",
    "\n",
    "m1_0 = torch.Tensor([[0.0], [0.0]]).to(dev)\n",
    "m2_0 = 0 * 0 * torch.eye(NL_m).to(dev)\n",
    "\n",
    "v = 0\n",
    "q2 = 0.1\n",
    "q = np.sqrt(q2)\n",
    "r2 = 0.1\n",
    "r = np.sqrt(r2)\n",
    "h = h_full\n",
    "Q = q*q*torch.eye(NL_m)\n",
    "R = r*r*torch.eye(NL_n)\n",
    "EPOCHS = 10\n",
    "BATCH_SIZE = 10\n",
    "LEARNING_RATE = 0.001\n",
    "WEIGHT_DECAY = 1e-4\n",
    "\n",
    "input_ = np.load(f\"Datasets/Pendulum/decimated_noisy_data/pendulum_decimated_noisy_q2_{q2:.0e}_r2_{r2:.0e}_v{v}.npz\")\n",
    "target_ = np.load(f\"Datasets/Pendulum/decimated_clean_data/pendulum_decimated_q2_{q2:.0e}_v_{v}.npz\")\n",
    "train_input = torch.from_numpy(input_[\"training_set\"][:, :, :]).float().to(dev)\n",
    "train_target = torch.from_numpy(target_[\"training_set\"][:, :, :]).float().to(dev)\n",
    "test_input = torch.from_numpy(input_[\"test_set\"][:, :, :]).float().to(dev)\n",
    "test_target = torch.from_numpy(target_[\"test_set\"]).float().to(dev)\n",
    "cv_input = torch.from_numpy(input_[\"validation_set\"][:200, :, :]).float().to(dev)\n",
    "cv_target = torch.from_numpy(target_[\"validation_set\"][:200, ...]).float().to(dev)\n",
    "\n",
    "traj_length_training = train_input.shape[2]\n",
    "traj_length_test = test_input.shape[2]"
   ],
   "metadata": {
    "pycharm": {
     "name": "#%%\n"
    },
    "id": "471XFNiZSSOO",
    "executionInfo": {
     "status": "ok",
     "timestamp": 1652024277446,
     "user_tz": -120,
     "elapsed": 578,
     "user": {
      "displayName": "DamiApache",
      "userId": "14144263532980165864"
     }
    }
   }
  },
  {
   "cell_type": "code",
   "execution_count": 3,
   "outputs": [
    {
     "name": "stdout",
     "output_type": "stream",
     "text": [
      "Current Time = 05.11.22_11:57:13\n"
     ]
    }
   ],
   "source": [
    "today = datetime.today()\n",
    "now = datetime.now()\n",
    "strToday = today.strftime(\"%m.%d.%y\")\n",
    "strNow = now.strftime(\"%H:%M:%S\")\n",
    "strTime = strToday + \"_\" + strNow\n",
    "print(\"Current Time =\", strTime)\n",
    "\n",
    "system_model = SystemModel(f=f, Q=Q, h=h, R=R, T=traj_length_training, T_test=traj_length_test, prior_Q=None, prior_Sigma=None, prior_S=None)\n",
    "system_model.InitSequence(m1_0, m2_0)\n",
    "KNet_Pipeline = Pipeline_KF(Time=strTime, folderName=\"KNet\", modelName=\"KalmanNet\", data_name=\"Pendulum\")\n",
    "KNet_Pipeline.setssModel(system_model)\n",
    "\n",
    "KNet_model = KalmanNetNN()\n",
    "KNet_model.Build(system_model)\n",
    "KNet_Pipeline.setModel(KNet_model)\n",
    "\n",
    "KNet_Pipeline.setTrainingParams(fix_H_flag=1, n_Epochs=EPOCHS, n_Batch=BATCH_SIZE, learningRate=LEARNING_RATE, weightDecay=WEIGHT_DECAY)\n",
    "\n"
   ],
   "metadata": {
    "pycharm": {
     "name": "#%%\n"
    },
    "colab": {
     "base_uri": "https://localhost:8080/"
    },
    "id": "PiMZJFnySSOP",
    "executionInfo": {
     "status": "ok",
     "timestamp": 1652024282418,
     "user_tz": -120,
     "elapsed": 1100,
     "user": {
      "displayName": "DamiApache",
      "userId": "14144263532980165864"
     }
    },
    "outputId": "95b31867-18ed-4f5d-f020-22cac406ece4"
   }
  },
  {
   "cell_type": "code",
   "execution_count": 5,
   "outputs": [
    {
     "name": "stdout",
     "output_type": "stream",
     "text": [
      "0 MSE Training : tensor(inf) [dB] MSE Validation : tensor(inf) [dB] timing  1652262949.8881977\n",
      "Optimal idx: 0 Optimal : 1000 [dB]\n"
     ]
    },
    {
     "ename": "KeyboardInterrupt",
     "evalue": "",
     "output_type": "error",
     "traceback": [
      "\u001B[1;31m---------------------------------------------------------------------------\u001B[0m",
      "\u001B[1;31mKeyboardInterrupt\u001B[0m                         Traceback (most recent call last)",
      "Input \u001B[1;32mIn [5]\u001B[0m, in \u001B[0;36m<cell line: 1>\u001B[1;34m()\u001B[0m\n\u001B[1;32m----> 1\u001B[0m \u001B[43mKNet_Pipeline\u001B[49m\u001B[38;5;241;43m.\u001B[39;49m\u001B[43mNNTrain\u001B[49m\u001B[43m(\u001B[49m\u001B[43mn_Examples\u001B[49m\u001B[38;5;241;43m=\u001B[39;49m\u001B[43mtrain_input\u001B[49m\u001B[38;5;241;43m.\u001B[39;49m\u001B[43mshape\u001B[49m\u001B[43m[\u001B[49m\u001B[38;5;241;43m0\u001B[39;49m\u001B[43m]\u001B[49m\u001B[43m,\u001B[49m\u001B[43m \u001B[49m\u001B[43mn_CV\u001B[49m\u001B[38;5;241;43m=\u001B[39;49m\u001B[43mcv_input\u001B[49m\u001B[38;5;241;43m.\u001B[39;49m\u001B[43mshape\u001B[49m\u001B[43m[\u001B[49m\u001B[38;5;241;43m0\u001B[39;49m\u001B[43m]\u001B[49m\u001B[43m,\u001B[49m\u001B[43m \u001B[49m\u001B[43mmodel_AE\u001B[49m\u001B[38;5;241;43m=\u001B[39;49m\u001B[38;5;28;43;01mNone\u001B[39;49;00m\u001B[43m,\u001B[49m\u001B[43mtrain_input\u001B[49m\u001B[38;5;241;43m=\u001B[39;49m\u001B[43mtrain_input\u001B[49m\u001B[43m,\u001B[49m\u001B[43m \u001B[49m\u001B[43mtrain_target\u001B[49m\u001B[38;5;241;43m=\u001B[39;49m\u001B[43mtrain_target\u001B[49m\u001B[43m,\u001B[49m\u001B[43m \u001B[49m\u001B[43mcv_input\u001B[49m\u001B[38;5;241;43m=\u001B[39;49m\u001B[43mcv_input\u001B[49m\u001B[43m,\u001B[49m\u001B[43m \u001B[49m\u001B[43mcv_target\u001B[49m\u001B[38;5;241;43m=\u001B[39;49m\u001B[43mcv_target\u001B[49m\u001B[43m,\u001B[49m\u001B[43m \u001B[49m\u001B[43mmodel_AE_conv\u001B[49m\u001B[38;5;241;43m=\u001B[39;49m\u001B[38;5;28;43;01mNone\u001B[39;49;00m\u001B[43m,\u001B[49m\u001B[43m \u001B[49m\u001B[43mmatrix_data_flag\u001B[49m\u001B[38;5;241;43m=\u001B[39;49m\u001B[38;5;241;43m1\u001B[39;49m\u001B[43m)\u001B[49m\n",
      "File \u001B[1;32m~\\Google Drive\\ETH\\Master thesis\\KalmanNet_VO\\Pipeline_KF_visual_old.py:87\u001B[0m, in \u001B[0;36mPipeline_KF.NNTrain\u001B[1;34m(self, n_Examples, train_input, train_target, n_CV, cv_input, cv_target, model_AE, model_AE_conv, matrix_data_flag)\u001B[0m\n\u001B[0;32m     85\u001B[0m     y_cv \u001B[38;5;241m=\u001B[39m cv_input[j, :, :]\n\u001B[0;32m     86\u001B[0m     \u001B[38;5;28;01mfor\u001B[39;00m t \u001B[38;5;129;01min\u001B[39;00m \u001B[38;5;28mrange\u001B[39m(\u001B[38;5;241m0\u001B[39m, \u001B[38;5;28mself\u001B[39m\u001B[38;5;241m.\u001B[39mssModel\u001B[38;5;241m.\u001B[39mT):\n\u001B[1;32m---> 87\u001B[0m         x_out_cv[:, t] \u001B[38;5;241m=\u001B[39m \u001B[38;5;28;43mself\u001B[39;49m\u001B[38;5;241;43m.\u001B[39;49m\u001B[43mmodel\u001B[49m\u001B[43m(\u001B[49m\u001B[43my_cv\u001B[49m\u001B[43m[\u001B[49m\u001B[43m:\u001B[49m\u001B[43m,\u001B[49m\u001B[43m \u001B[49m\u001B[43mt\u001B[49m\u001B[43m]\u001B[49m\u001B[43m,\u001B[49m\u001B[43m \u001B[49m\u001B[38;5;28;43mself\u001B[39;49m\u001B[38;5;241;43m.\u001B[39;49m\u001B[43mfix_H_flag\u001B[49m\u001B[43m)\u001B[49m\n\u001B[0;32m     88\u001B[0m \u001B[38;5;28;01melse\u001B[39;00m:\n\u001B[0;32m     89\u001B[0m     y_cv \u001B[38;5;241m=\u001B[39m cv_input[j, :, :, :]\n",
      "File \u001B[1;32m~\\.conda\\envs\\torch\\lib\\site-packages\\torch\\nn\\modules\\module.py:1110\u001B[0m, in \u001B[0;36mModule._call_impl\u001B[1;34m(self, *input, **kwargs)\u001B[0m\n\u001B[0;32m   1106\u001B[0m \u001B[38;5;66;03m# If we don't have any hooks, we want to skip the rest of the logic in\u001B[39;00m\n\u001B[0;32m   1107\u001B[0m \u001B[38;5;66;03m# this function, and just call forward.\u001B[39;00m\n\u001B[0;32m   1108\u001B[0m \u001B[38;5;28;01mif\u001B[39;00m \u001B[38;5;129;01mnot\u001B[39;00m (\u001B[38;5;28mself\u001B[39m\u001B[38;5;241m.\u001B[39m_backward_hooks \u001B[38;5;129;01mor\u001B[39;00m \u001B[38;5;28mself\u001B[39m\u001B[38;5;241m.\u001B[39m_forward_hooks \u001B[38;5;129;01mor\u001B[39;00m \u001B[38;5;28mself\u001B[39m\u001B[38;5;241m.\u001B[39m_forward_pre_hooks \u001B[38;5;129;01mor\u001B[39;00m _global_backward_hooks\n\u001B[0;32m   1109\u001B[0m         \u001B[38;5;129;01mor\u001B[39;00m _global_forward_hooks \u001B[38;5;129;01mor\u001B[39;00m _global_forward_pre_hooks):\n\u001B[1;32m-> 1110\u001B[0m     \u001B[38;5;28;01mreturn\u001B[39;00m forward_call(\u001B[38;5;241m*\u001B[39m\u001B[38;5;28minput\u001B[39m, \u001B[38;5;241m*\u001B[39m\u001B[38;5;241m*\u001B[39mkwargs)\n\u001B[0;32m   1111\u001B[0m \u001B[38;5;66;03m# Do not call functions when jit is used\u001B[39;00m\n\u001B[0;32m   1112\u001B[0m full_backward_hooks, non_full_backward_hooks \u001B[38;5;241m=\u001B[39m [], []\n",
      "File \u001B[1;32m~\\Google Drive\\ETH\\Master thesis\\KalmanNet_VO\\KalmanNet_nn_NewArch_visual.py:336\u001B[0m, in \u001B[0;36mKalmanNetNN.forward\u001B[1;34m(self, y, fix_H_flag)\u001B[0m\n\u001B[0;32m    331\u001B[0m         y \u001B[38;5;241m=\u001B[39m torch\u001B[38;5;241m.\u001B[39msqueeze(y)\n\u001B[0;32m    332\u001B[0m \u001B[38;5;124;03m'''\u001B[39;00m\n\u001B[0;32m    333\u001B[0m \u001B[38;5;124;03mfor t in range(0, self.T):\u001B[39;00m\n\u001B[0;32m    334\u001B[0m \u001B[38;5;124;03m    self.x_out[:, t] = self.KNet_step(y[:, t])\u001B[39;00m\n\u001B[0;32m    335\u001B[0m \u001B[38;5;124;03m'''\u001B[39;00m\n\u001B[1;32m--> 336\u001B[0m \u001B[38;5;28;01mreturn\u001B[39;00m \u001B[38;5;28;43mself\u001B[39;49m\u001B[38;5;241;43m.\u001B[39;49m\u001B[43mKNet_step\u001B[49m\u001B[43m(\u001B[49m\u001B[43my\u001B[49m\u001B[43m,\u001B[49m\u001B[43m \u001B[49m\u001B[43mfix_H_flag\u001B[49m\u001B[43m)\u001B[49m\n",
      "File \u001B[1;32m~\\Google Drive\\ETH\\Master thesis\\KalmanNet_VO\\KalmanNet_nn_NewArch_visual.py:218\u001B[0m, in \u001B[0;36mKalmanNetNN.KNet_step\u001B[1;34m(self, y, fix_H_flag)\u001B[0m\n\u001B[0;32m    215\u001B[0m \u001B[38;5;28;01mdef\u001B[39;00m \u001B[38;5;21mKNet_step\u001B[39m(\u001B[38;5;28mself\u001B[39m, y, fix_H_flag):\n\u001B[0;32m    216\u001B[0m \n\u001B[0;32m    217\u001B[0m     \u001B[38;5;66;03m# Compute Priors\u001B[39;00m\n\u001B[1;32m--> 218\u001B[0m     \u001B[38;5;28;43mself\u001B[39;49m\u001B[38;5;241;43m.\u001B[39;49m\u001B[43mstep_prior\u001B[49m\u001B[43m(\u001B[49m\u001B[43mfix_H_flag\u001B[49m\u001B[43m)\u001B[49m\n\u001B[0;32m    220\u001B[0m     \u001B[38;5;66;03m# Compute Kalman Gain\u001B[39;00m\n\u001B[0;32m    221\u001B[0m     \u001B[38;5;28mself\u001B[39m\u001B[38;5;241m.\u001B[39mstep_KGain_est(y)\n",
      "File \u001B[1;32m~\\Google Drive\\ETH\\Master thesis\\KalmanNet_VO\\KalmanNet_nn_NewArch_visual.py:180\u001B[0m, in \u001B[0;36mKalmanNetNN.step_prior\u001B[1;34m(self, fix_H_flag)\u001B[0m\n\u001B[0;32m    178\u001B[0m \u001B[38;5;28;01mdef\u001B[39;00m \u001B[38;5;21mstep_prior\u001B[39m(\u001B[38;5;28mself\u001B[39m, fix_H_flag):\n\u001B[0;32m    179\u001B[0m     \u001B[38;5;66;03m# Predict the 1-st moment of x\u001B[39;00m\n\u001B[1;32m--> 180\u001B[0m     \u001B[38;5;28mself\u001B[39m\u001B[38;5;241m.\u001B[39mm1x_prior \u001B[38;5;241m=\u001B[39m \u001B[38;5;28;43mself\u001B[39;49m\u001B[38;5;241;43m.\u001B[39;49m\u001B[43mf\u001B[49m\u001B[43m(\u001B[49m\u001B[38;5;28;43mself\u001B[39;49m\u001B[38;5;241;43m.\u001B[39;49m\u001B[43mm1x_posterior\u001B[49m\u001B[43m)\u001B[49m\u001B[38;5;241m.\u001B[39mto(dev, non_blocking\u001B[38;5;241m=\u001B[39m\u001B[38;5;28;01mTrue\u001B[39;00m)\n\u001B[0;32m    182\u001B[0m     \u001B[38;5;28;01mif\u001B[39;00m fix_H_flag:            \n\u001B[0;32m    183\u001B[0m         \u001B[38;5;66;03m# Predict the 1-st moment of y\u001B[39;00m\n\u001B[0;32m    184\u001B[0m         \u001B[38;5;28mself\u001B[39m\u001B[38;5;241m.\u001B[39mm1y \u001B[38;5;241m=\u001B[39m \u001B[38;5;28mself\u001B[39m\u001B[38;5;241m.\u001B[39mh(\u001B[38;5;28mself\u001B[39m\u001B[38;5;241m.\u001B[39mm1x_prior)\n",
      "File \u001B[1;32m~\\Google Drive\\ETH\\Master thesis\\KalmanNet_VO\\model.py:31\u001B[0m, in \u001B[0;36mf\u001B[1;34m(x)\u001B[0m\n\u001B[0;32m     29\u001B[0m g \u001B[38;5;241m=\u001B[39m \u001B[38;5;241m9.81\u001B[39m\n\u001B[0;32m     30\u001B[0m l \u001B[38;5;241m=\u001B[39m \u001B[38;5;241m1\u001B[39m\n\u001B[1;32m---> 31\u001B[0m \u001B[38;5;28;01mreturn\u001B[39;00m torch\u001B[38;5;241m.\u001B[39msqueeze(\u001B[43mtorch\u001B[49m\u001B[38;5;241;43m.\u001B[39;49m\u001B[43mTensor\u001B[49m\u001B[43m(\u001B[49m\u001B[43m[\u001B[49m\u001B[43m(\u001B[49m\u001B[43mx\u001B[49m\u001B[43m[\u001B[49m\u001B[38;5;241;43m0\u001B[39;49m\u001B[43m]\u001B[49m\u001B[43m \u001B[49m\u001B[38;5;241;43m+\u001B[39;49m\u001B[43m \u001B[49m\u001B[43mx\u001B[49m\u001B[43m[\u001B[49m\u001B[38;5;241;43m1\u001B[39;49m\u001B[43m]\u001B[49m\u001B[38;5;241;43m*\u001B[39;49m\u001B[43mdelta_t\u001B[49m\u001B[43m)\u001B[49m\u001B[43m,\u001B[49m\u001B[43m \u001B[49m\u001B[43m(\u001B[49m\u001B[43mx\u001B[49m\u001B[43m[\u001B[49m\u001B[38;5;241;43m1\u001B[39;49m\u001B[43m]\u001B[49m\u001B[43m \u001B[49m\u001B[38;5;241;43m-\u001B[39;49m\u001B[43m \u001B[49m\u001B[43mg\u001B[49m\u001B[38;5;241;43m/\u001B[39;49m\u001B[43ml\u001B[49m\u001B[43m \u001B[49m\u001B[38;5;241;43m*\u001B[39;49m\u001B[43m \u001B[49m\u001B[43mtorch\u001B[49m\u001B[38;5;241;43m.\u001B[39;49m\u001B[43msin\u001B[49m\u001B[43m(\u001B[49m\u001B[43mx\u001B[49m\u001B[43m[\u001B[49m\u001B[38;5;241;43m0\u001B[39;49m\u001B[43m]\u001B[49m\u001B[43m)\u001B[49m\u001B[43m \u001B[49m\u001B[38;5;241;43m*\u001B[39;49m\u001B[43m \u001B[49m\u001B[43mdelta_t\u001B[49m\u001B[43m)\u001B[49m\u001B[43m]\u001B[49m\u001B[43m)\u001B[49m)\n",
      "\u001B[1;31mKeyboardInterrupt\u001B[0m: "
     ]
    }
   ],
   "source": [
    "KNet_Pipeline.NNTrain(n_Examples=train_input.shape[0], n_CV=cv_input.shape[0], model_AE=None,train_input=train_input, train_target=train_target, cv_input=cv_input, cv_target=cv_target, model_AE_conv=None, matrix_data_flag=1)"
   ],
   "metadata": {
    "pycharm": {
     "name": "#%%\n"
    },
    "colab": {
     "base_uri": "https://localhost:8080/"
    },
    "id": "xLk59adESSOQ",
    "executionInfo": {
     "status": "ok",
     "timestamp": 1652026058259,
     "user_tz": -120,
     "elapsed": 1770360,
     "user": {
      "displayName": "DamiApache",
      "userId": "14144263532980165864"
     }
    },
    "outputId": "3dbd000b-fe39-4daa-d819-6e83a40f6026"
   }
  },
  {
   "cell_type": "code",
   "execution_count": null,
   "outputs": [],
   "source": [
    "[KNet_MSE_test_linear_arr, KNet_MSE_test_linear_avg, KNet_MSE_test_dB_avg, KNet_test]=KNet_Pipeline.NNTest(n_Test=test_input.shape[0], test_input=test_input, test_target=test_target, model_AE=None, model_AE_conv=None, matrix_data_flag=1)"
   ],
   "metadata": {
    "pycharm": {
     "name": "#%%\n"
    },
    "id": "iPhf5Pc9SSOR"
   }
  },
  {
   "cell_type": "code",
   "execution_count": 8,
   "outputs": [
    {
     "data": {
      "text/plain": "tensor([[[-0.5888, -1.7051, -1.3227,  ..., -0.7503, -1.2675, -0.6058],\n         [ 0.0096, -0.1603, -0.2370,  ..., -1.5360, -1.2074, -1.1008]],\n\n        [[-0.9208, -0.9067, -1.2048,  ..., -0.7186, -1.2775, -0.2811],\n         [-0.3302,  0.3219, -0.0843,  ..., -2.5882, -2.1960, -1.7494]],\n\n        [[-0.4039, -0.3558,  0.1618,  ..., -0.3303, -0.6542,  0.0618],\n         [ 0.4863,  0.4383, -0.1546,  ...,  0.2156,  0.1110, -0.0732]],\n\n        ...,\n\n        [[-0.9153, -0.7140, -0.9811,  ..., -0.0252, -1.6547, -1.1451],\n         [-0.0144, -0.2078, -0.2928,  ..., -0.9667, -0.7994, -0.9113]],\n\n        [[-0.8541, -0.6285, -1.0203,  ..., -0.8120, -0.2440, -0.2285],\n         [ 0.2649,  0.2417,  0.4637,  ..., -0.3380, -1.1735, -0.7930]],\n\n        [[ 1.1155,  1.0017,  0.9622,  ...,  0.7922,  1.0003,  1.1947],\n         [ 0.1315, -0.0677, -0.1723,  ...,  1.3576,  1.3352,  1.4573]]])"
     },
     "execution_count": 8,
     "metadata": {},
     "output_type": "execute_result"
    }
   ],
   "source": [
    "train_input\n"
   ],
   "metadata": {
    "pycharm": {
     "name": "#%%\n"
    },
    "id": "1_MoAqnnSSOT"
   }
  },
  {
   "cell_type": "code",
   "execution_count": null,
   "outputs": [
    {
     "name": "stdout",
     "output_type": "stream",
     "text": [
      "0\n",
      "1\n",
      "2\n",
      "3\n",
      "4\n",
      "5\n",
      "6\n",
      "7\n",
      "8\n",
      "9\n"
     ]
    }
   ],
   "source": [
    ""
   ],
   "metadata": {
    "pycharm": {
     "name": "#%%\n"
    },
    "id": "2e4p5lrLSSOT",
    "outputId": "0c7b9b9f-2f6a-48e4-c1da-a7b01dab7782"
   }
  },
  {
   "cell_type": "code",
   "execution_count": null,
   "outputs": [],
   "source": [
    ""
   ],
   "metadata": {
    "pycharm": {
     "name": "#%%\n"
    },
    "id": "ovItjs3KSSOU"
   }
  }
 ],
 "metadata": {
  "kernelspec": {
   "display_name": "Python 3",
   "language": "python",
   "name": "python3"
  },
  "language_info": {
   "codemirror_mode": {
    "name": "ipython",
    "version": 2
   },
   "file_extension": ".py",
   "mimetype": "text/x-python",
   "name": "python",
   "nbconvert_exporter": "python",
   "pygments_lexer": "ipython2",
   "version": "2.7.6"
  },
  "colab": {
   "name": "KalmanNet_train_test_pendulum.ipynb",
   "provenance": [],
   "collapsed_sections": []
  },
  "accelerator": "GPU"
 },
 "nbformat": 4,
 "nbformat_minor": 0
}